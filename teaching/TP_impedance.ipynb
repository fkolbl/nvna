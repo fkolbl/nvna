{
 "cells": [
  {
   "cell_type": "markdown",
   "metadata": {},
   "source": [
    "# TP PH106 - mesure d'impédance et caractérisation de composants en Hautes fréquences\n",
    "\n",
    "Ce TP a pour objectif de mesurer et modéliser l’impédance de composants passifs en hautes fréquences. En particulier vous mettrez en œuvre :\n",
    "• une mesure de paramètre S avec un VNA,\n",
    "• la conversion de cette mesure en impédance et le de-embedding de cette mesure dans le\n",
    "plan du dipôle mesuré,\n",
    "• la modélisation des parasites des composants passifs en hautes fréquences.\n",
    "\n",
    "\n",
    "## 1. Prise en main de l'environnement de travail\n",
    "\n",
    "Ce TP utilise le language *Python*, sans que vous ayez besoin de le maîtriser. Le fichier actuel est un *Jupyter Notebook* : il permet de méler du texte (écrit avec des balise markdown, si vous voulez utiliser cette syntaxe pour répondre aux questions, rendez vous sur [Markdown Syntax](https://www.markdownguide.org/basic-syntax/)) et de l'entrecouper de code *Python*. Par exemple, la cellule suivante importe les bibliothèques de code que nous allons utiliser, puis crée une variable 'instrument' qui permet d'accéder depuis le code vers l'appareil de mesure, le NanoVNA noté 'NVNA' (en utilisant la bibliothèque 'nvna').\n",
    "\n",
    "**NB**: si il vous est demandé de choisir un environnement lorsque vous exécutez la première cellule Python, choisir pour ce TP 'nvna-env'\n"
   ]
  },
  {
   "cell_type": "code",
   "execution_count": null,
   "metadata": {},
   "outputs": [],
   "source": [
    "import nvna\n",
    "import numpy as np\n",
    "from scipy.optimize import curve_fit\n",
    "import matplotlib.pyplot as plt\n",
    "%matplotlib inline\n",
    "\n",
    "instrument = nvna.NVNA(connect=True)"
   ]
  },
  {
   "cell_type": "markdown",
   "metadata": {},
   "source": [
    "### Quelques éléments de syntaxe Python (au cas où)\n",
    "\n",
    "Vous trouverez ci-dessous quelques éléments de syntaxe Python qui pourraient *éventuellement* vous être utiles.\n",
    "\n",
    "Considérations générales :\n",
    "  * la valeur $\\pi$ peut être obtenue à l'aide de la commande `np.pi` ;\n",
    "  * le nombre imaginaire $i$ tel que $i^2 = -1$ est noté `1j` en Python ;\n",
    "  * les indices démarrent à 0 en Python ;\n",
    "  * l'accès au contenu d'un dictionnaire `mydict` pour l'entrée `key` s'effectue par la commande `mydict[key]` ;\n",
    "  * les commentaires sont précédés de `#` (sur une ligne) ou encadrés par `\"\"\"` (sur plusieurs lignes) ;\n",
    "  * la syntaxe d'une boucle `for` (élémentaire) est la suivante :\n",
    "      ```python\n",
    "      for element in iterable:\n",
    "          # do something with element\n",
    "      ```\n",
    "  * un exemple de chaîne de caractères dynamique est `f\"La valeur de a + b est {var_a + var_b}\"` où `var_a` et `var_b` sont deux variables (le \"f\" en tête de chaîne indique d'évaluer les expressions entre accolades) ;\n",
    "  * l'indentation indique les blocs de code (à la manière des `{...}` en C) ;\n",
    "  * les puissances s'exprime par `**` (et non `^`) : `2**3 = 8` ;\n",
    "\n",
    "Les fonctions mathématiques ou élémentaires dont vous pourriez avoir besoin sont disponibles en utilisant le préfixe `np.` :\n",
    "  * `np.abs` (valeur absolue) ;\n",
    "  * `np.angle` (argument de nombres complexes, en radians)\n",
    "  * `np.mean` (moyenne) ;\n",
    "  * `np.log10` (logarithme décimal) ;\n",
    "  * `np.linspace` (construction d'un vecteur de points équirépartis) ;\n",
    "  * etc.\n",
    "\n",
    "Les fonctions utilisateur sont définies avec le mot clef 'def', suivi des arguments entre parenthèse suivi de ':'. La ou les valeurs renvoyées par la fonction sont précédées du mot clef 'return'.\n",
    "\n",
    "Manipulation de tableaux :\n",
    "  * le dernier élément d'un tableau peut être obtenu avec l'indice -1, l'avant-dernier avec l'indice -2, etc. ;\n",
    "  * la sélection des `n` premiers éléments d'un tableau `arr` s'effectue avec la commande `arr[:n]` ;\n",
    "  * la sélection des `n` derniers éléments d'un tableau `arr` s'effectue avec la commande `arr[-n:]` ;\n",
    "  * la sélection des éléments `n_start` à `n_stop` (inclus) dans un tableau `arr` s'effectue avec la commande `arr[n_start:n_stop + 1]`.\n",
    "  \n",
    "**Pour obtenir de l'aide sur une fonction `func`, utilisez les commandes `help(func)` ou `func?` dans une cellule de code.** Ceci est valable même pour les fonctions personnalisées mises à votre disposition, pour lesquelles un effort de documentation a également fait.\n",
    "\n",
    "### Utilisation du NanoVNA - guide rapide\n",
    "la bibliothèque nvna a été écrite dans le but de pouvoir utiliser le VNA (ici un NanoVNA) depuis python sans avoir à gérer la communication entre l'ordinateur et l'appareil.\n",
    "\n",
    "Dans la cellule précédente avec le code *Python*, une variable appellée 'instrument' reçoit une instance d'un object logiciel de type *NVNA*. Vous allez utiliser cet instance comme point d'accès logiciel à l'appareil physique. En python, pour lancer des méthodes spécifiques à un objet, il suffit d'appeler la variable, suivie de '.' puis du nom de la méthode et entre parenthèse les éventuels arguments de la méthode.\n",
    "\n",
    "Les quelques méthodes qui pourront vous être utiles sont : \n",
    "  * `PORT1_measurement` : lance une mesure et ne renvoie rien\n",
    "  * `get_last_PORT1_Scattering` : renvoie deux tableaux contenant les fréquences de mesure et le paramètre S mesuré,\n",
    "  * `get_last_PORT1_Impedance` : renvoie deux tableaux contenant les fréquences de mesure et l'impédance extraite du paramètre S et ramené dans le plan du DUT si une fonction de de-embedding a été fournie',\n",
    "  * `get_S11` : qui prend en arguments `f_start` la fréquence de départ , `f_stop` la fréquence d'arrivée et `n_points` et qui renvoie deux tableaux contenant les fréquences de mesure et le paramètre S mesuré, attention dans ce cas, il n'y a aucune calibration de prise en compte. Cette méthode change la bande de mesure et ne sera utilisée ici que dans la première mesure en exemple...\n",
    "  * `attach_Scattering2Impedance_converter`: prend en argument une fonction qui calcule l'impédance à partir du paramètre S (voir code à trou proposé)\n",
    "  * `attach_Zdeembed_converter`: prend en argument une fonction qui calcule l'impédance dans le plan du DUT à partir des impédances de calibration (voir code à trou proposé)\n",
    "\n",
    "A titre d'exemple, pour réaliser votre première mesure dans le texte du TP pour l'activité 2, nous allons faire une mesure de paramètre S puis l'afficher, comme en activité 1 mais sur l'ordinateur cette fois (lisez et complétez)"
   ]
  },
  {
   "cell_type": "code",
   "execution_count": null,
   "metadata": {},
   "outputs": [],
   "source": [
    "f_start = 5e4   # in Hz\n",
    "f_stop = 2.5e9    # in Hz\n",
    "n_points = 201\n",
    "\n",
    "freq, S11 = instrument.get_S11(f_start, f_stop, n_points)\n",
    "\n",
    "plt.figure()\n",
    "plt.plot(freq, np.abs(S11), label='S11')\n",
    "plt.xlabel('A compléter')\n",
    "plt.ylabel('A compléter')\n",
    "plt.semilogy()\n",
    "plt.legend()\n"
   ]
  },
  {
   "cell_type": "markdown",
   "metadata": {},
   "source": [
    "Pour être sûr d'avoir bien compris, et en deux/trois phrases : que fait ce code ? (attention aux détails)\n",
    "\n",
    "Réponse :\n",
    "---------\n",
    "\n",
    "................................................................"
   ]
  },
  {
   "cell_type": "markdown",
   "metadata": {},
   "source": [
    "**Si vous commencez le TP, vous pouvez sauter le prochain paragraphe, il vous sera utile vers la fin du TP**\n",
    "### Code proposé pour l'identification d'un modèle (activité 9)\n",
    "Il s'agit d'identifier un modèle : de trouver les paramètres d'une fonction mathématique qui se rapproche le plus d'une mesure. Pour nous, l'équation est le module de l'impédance de l'électrode et nous allons utiliser une fonction qui minimisera la grandeur $Q$ définie par : \n",
    "$$ Q = \\sum_{k=1}^{N} \\left( \\left| Z_{mesure}\\left(f_k \\right)\\right| - \\left| Z_{mod}\\left(f_k \\right)\\right| \\right)^2 $$\n",
    "cette fonction est tilée de la bibliothèque 'scipy', et on utilisera directement 'curve_fit'. Vous avez à charge d'écrire la fonction réalisant $\\left| Z_{mod}\\left(f_k \\right)\\right|$. Vous pourrez utiliser le code suivant : "
   ]
  },
  {
   "cell_type": "code",
   "execution_count": null,
   "metadata": {},
   "outputs": [],
   "source": [
    "def Z_mod(freq, C, L, R):\n",
    "    return NotImplementedError\n",
    "\n",
    "freq = NotImplementedError\n",
    "Z_mesure = NotImplementedError\n",
    "popt, pcov = curve_fit(Z_mod, freq, Z_mesure, p0=[1, 1, 1])\n",
    "\n",
    "print(popt)\n",
    "\n",
    "plt.figure()\n",
    "plt.plot(freq, Z_mesure, label='mesure')\n",
    "plt.plot(freq, Z_mod(freq, *popt), label='modèle')\n",
    "plt.loglog()\n",
    "plt.legend()"
   ]
  },
  {
   "cell_type": "markdown",
   "metadata": {},
   "source": [
    "## 2. Première mesure et étalonnage dans le plan du DUT\n",
    "\n",
    "### 2.1 Passage en impédance\n",
    "Pour l'activité 3, vous pouvez compléter le code suivant (retirer et remplacer le 'NotImplementedError') :"
   ]
  },
  {
   "cell_type": "code",
   "execution_count": null,
   "metadata": {},
   "outputs": [],
   "source": [
    "\n",
    "def scattering2impedance(S, z0 = 50.):\n",
    "    return NotImplementedError\n",
    "\n",
    "instrument.attach_Scattering2Impedance_converter(scattering2impedance)\n",
    "\n",
    "input('Brancher la charge Load du kit puis appuyez sur entrée')\n",
    "instrument.PORT1_measurement()\n",
    "freq, Z_m = instrument.get_last_PORT1_Impedance()\n",
    "\n",
    "\n",
    "plt.figure()\n",
    "plt.plot(freq, Z_m, label='mesure')\n",
    "plt.loglog()\n",
    "plt.legend()"
   ]
  },
  {
   "cell_type": "markdown",
   "metadata": {},
   "source": [
    "### 2.2 Etalonnage ou de-embedding dans le plan du DUT\n",
    "\n",
    "à partir d'ici, vous utilisez la carte PCB de mesure"
   ]
  },
  {
   "cell_type": "code",
   "execution_count": null,
   "metadata": {},
   "outputs": [],
   "source": [
    "# place pour le code de l'activite 4"
   ]
  },
  {
   "cell_type": "markdown",
   "metadata": {},
   "source": [
    "Réponses activité 4:\n",
    "--------------------"
   ]
  },
  {
   "cell_type": "markdown",
   "metadata": {},
   "source": [
    "Le code à trous suivant vous permet de réaliser l'activité 5:"
   ]
  },
  {
   "cell_type": "code",
   "execution_count": null,
   "metadata": {},
   "outputs": [],
   "source": [
    "def de_embed(Z_m, Z_short, Z_open, Z_load, z0=50.):\n",
    "    num = 0\n",
    "    denom = 1\n",
    "    return NotImplementedError\n",
    "\n",
    "instrument.attach_Zdeembed_converter(de_embed)\n",
    "\n",
    "instrument.PORT1_calibration()\n",
    "print('PORT1 calibré')\n",
    "\n",
    "\n",
    "input('Brancher la terminaison Load du kit puis appuyer sur entrée')\n",
    "instrument.PORT1_measurement()\n",
    "freq, Z_DUT = instrument.get_last_PORT1_Impedance()\n",
    "\n",
    "plt.figure()\n",
    "plt.plot(freq, np.abs(Z_DUT),label='impedance DUT')\n",
    "plt.loglog()\n",
    "plt.grid()\n",
    "plt.legend()\n"
   ]
  }
 ],
 "metadata": {
  "kernelspec": {
   "display_name": "nvna",
   "language": "python",
   "name": "python3"
  },
  "language_info": {
   "codemirror_mode": {
    "name": "ipython",
    "version": 3
   },
   "file_extension": ".py",
   "mimetype": "text/x-python",
   "name": "python",
   "nbconvert_exporter": "python",
   "pygments_lexer": "ipython3",
   "version": "3.12.3"
  }
 },
 "nbformat": 4,
 "nbformat_minor": 2
}
