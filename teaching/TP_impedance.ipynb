{
 "cells": [
  {
   "cell_type": "markdown",
   "metadata": {},
   "source": [
    "# TP PH106 - mesure d'impédance et caractérisation de composants en Hautes fréquences\n",
    "\n",
    "Ce TP a pour but de mettre en oeuvre ..."
   ]
  },
  {
   "cell_type": "code",
   "execution_count": 1,
   "metadata": {},
   "outputs": [],
   "source": [
    "import nvna\n",
    "import numpy as np\n",
    "import matplotlib.pyplot as plt\n",
    "\n",
    "\n",
    "instrument = nvna.NVNA()"
   ]
  },
  {
   "cell_type": "markdown",
   "metadata": {},
   "source": [
    "## Utilisation du NanoVNA - guide rapide\n",
    "la bibliothèque nvna a été écrite dans le but de pouvoir utiliser le VNA (ici un NanoVNA) depuis python sans avoir à gérer la communication entre l'ordinateur et l'appareil.\n",
    "\n",
    "Dans la cellule précédente avec le code *Python*, une variable appellée 'instrument' reçoit une instance d'un object logiciel de type *NVNA*. Vous allez utiliser cet instance comme point d'accès logiciel à l'appareil physique. En python, pour lancer des méthodes spécifiques à un objet, il suffit d'appeler la variable, suivie de '.' puis du nom de la méthode et entre parenthèse les éventuels arguments de la méthode.\n",
    "\n",
    "Les quelques méthodes qui pourront vous être utiles sont : \n",
    "- *méthode 1*\n",
    "- *méthode 2*"
   ]
  },
  {
   "cell_type": "code",
   "execution_count": null,
   "metadata": {},
   "outputs": [],
   "source": []
  }
 ],
 "metadata": {
  "kernelspec": {
   "display_name": "nvna-env",
   "language": "python",
   "name": "python3"
  },
  "language_info": {
   "codemirror_mode": {
    "name": "ipython",
    "version": 3
   },
   "file_extension": ".py",
   "mimetype": "text/x-python",
   "name": "python",
   "nbconvert_exporter": "python",
   "pygments_lexer": "ipython3",
   "version": "3.12.0"
  }
 },
 "nbformat": 4,
 "nbformat_minor": 2
}
